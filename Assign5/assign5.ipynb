{
 "cells": [
  {
   "cell_type": "code",
   "execution_count": 16,
   "metadata": {},
   "outputs": [],
   "source": [
    "import csv\n",
    "import numpy as np\n",
    "import matplotlib.pyplot as plt\n",
    "\n",
    "dataset = None"
   ]
  },
  {
   "cell_type": "code",
   "execution_count": 49,
   "metadata": {},
   "outputs": [],
   "source": [
    "# Transform the data\n",
    "lines = []\n",
    "with open(\"history.csv\", newline='') as f:\n",
    "    freader = csv.reader(f)\n",
    "    for row in freader:\n",
    "        lines.append(row)\n",
    "with open(\"hw5.csv\", \"w\") as file:\n",
    "    file.write(\"year,days\\n\")\n",
    "    for line in reversed(lines[1:]):\n",
    "        try:\n",
    "            days = int(line[3])\n",
    "        except:\n",
    "            continue\n",
    "        year_str = int(line[0].split('-')[0])\n",
    "        if year_str >= 2022 or year_str < 1855:\n",
    "            continue\n",
    "        file.write(str(year_str)+\",\"+str(days))\n",
    "        if year_str != 2021:\n",
    "            file.write(\"\\n\")"
   ]
  },
  {
   "cell_type": "code",
   "execution_count": null,
   "metadata": {},
   "outputs": [],
   "source": []
  },
  {
   "cell_type": "code",
   "execution_count": 32,
   "metadata": {},
   "outputs": [],
   "source": [
    "read_data = []\n",
    "with open(\"toy.csv\", \"r\") as f:\n",
    "    lines = f.readlines()\n",
    "    for line in lines[1:]:\n",
    "        # 0 is year, 1 is number of days\n",
    "        read_data.append([int(line.split(\",\")[0]), int(line.split(\",\")[1])])\n",
    "\n",
    "dataset = np.array(read_data, dtype=np.int64)\n",
    "# print(dataset)"
   ]
  },
  {
   "cell_type": "code",
   "execution_count": 33,
   "metadata": {},
   "outputs": [
    {
     "data": {
      "text/plain": [
       "Text(0, 0.5, 'Number of frozen Days')"
      ]
     },
     "execution_count": 33,
     "metadata": {},
     "output_type": "execute_result"
    },
    {
     "data": {
      "image/png": "[encoded data removed]",
      "text/plain": [
       "<Figure size 640x480 with 1 Axes>"
      ]
     },
     "metadata": {},
     "output_type": "display_data"
    }
   ],
   "source": [
    "plt.plot(dataset[:, 0], dataset[:, 1])\n",
    "plt.xlabel(\"Year\")\n",
    "plt.ylabel(\"Number of frozen Days\")\n",
    "# plt.savefig(\"plot.jpg\")"
   ]
  },
  {
   "cell_type": "code",
   "execution_count": 34,
   "metadata": {},
   "outputs": [
    {
     "name": "stdout",
     "output_type": "stream",
     "text": [
      "Q3a:\n",
      "[[   1 1800]\n",
      " [   1 1801]\n",
      " [   1 1802]]\n"
     ]
    }
   ],
   "source": [
    "temp = np.array(dataset[:, 0]).reshape((len(dataset[:,0]), 1))\n",
    "intercept = np.ones((len(temp), 1))\n",
    "print(\"Q3a:\")\n",
    "# print(temp)\n",
    "# print(len(intercept))\n",
    "X = np.array(np.append(intercept, temp, axis=1), dtype=np.int64)\n",
    "print(X)"
   ]
  },
  {
   "cell_type": "code",
   "execution_count": 35,
   "metadata": {},
   "outputs": [
    {
     "name": "stdout",
     "output_type": "stream",
     "text": [
      "Q3b:\n",
      "[120 155  99]\n"
     ]
    }
   ],
   "source": [
    "# Question 3B\n",
    "print(\"Q3b:\")\n",
    "Y = np.array(dataset[:, 1])\n",
    "print(Y)"
   ]
  },
  {
   "cell_type": "code",
   "execution_count": 36,
   "metadata": {},
   "outputs": [
    {
     "name": "stdout",
     "output_type": "stream",
     "text": [
      "Q3c:\n",
      "[[      3    5403]\n",
      " [   5403 9730805]]\n"
     ]
    }
   ],
   "source": [
    "print(\"Q3c:\")\n",
    "Z = X.T @ X\n",
    "Z = np.array(Z, dtype=np.int64)\n",
    "print(Z)"
   ]
  },
  {
   "cell_type": "code",
   "execution_count": 37,
   "metadata": {},
   "outputs": [
    {
     "name": "stdout",
     "output_type": "stream",
     "text": [
      "Q3d:\n",
      "[[ 1.62180083e+06 -9.00500000e+02]\n",
      " [-9.00500000e+02  5.00000000e-01]]\n"
     ]
    }
   ],
   "source": [
    "print(\"Q3d:\")\n",
    "I_inv = np.linalg.inv(Z)\n",
    "print(I_inv)"
   ]
  },
  {
   "cell_type": "code",
   "execution_count": 38,
   "metadata": {},
   "outputs": [
    {
     "name": "stdout",
     "output_type": "stream",
     "text": [
      "Q3e:\n",
      "[[ 9.00833333e+02  3.33333334e-01 -9.00166666e+02]\n",
      " [-5.00000000e-01  0.00000000e+00  5.00000000e-01]]\n"
     ]
    }
   ],
   "source": [
    "print(\"Q3e:\")\n",
    "PI = np.dot(I_inv, X.T)\n",
    "print(PI)"
   ]
  },
  {
   "cell_type": "code",
   "execution_count": 39,
   "metadata": {},
   "outputs": [
    {
     "name": "stdout",
     "output_type": "stream",
     "text": [
      "Q3f:\n",
      "[ 1.90351667e+04 -1.05000000e+01]\n"
     ]
    }
   ],
   "source": [
    "print(\"Q3f:\")\n",
    "beta_hat = np.dot(PI, Y)\n",
    "print(beta_hat)"
   ]
  },
  {
   "cell_type": "code",
   "execution_count": 40,
   "metadata": {},
   "outputs": [
    {
     "name": "stdout",
     "output_type": "stream",
     "text": [
      "Q4: -2195.833332218419\n"
     ]
    }
   ],
   "source": [
    "x_test = np.array((1, 2022))\n",
    "y_test = np.dot(beta_hat, x_test)\n",
    "print(\"Q4: {}\".format(y_test))"
   ]
  },
  {
   "cell_type": "code",
   "execution_count": 41,
   "metadata": {},
   "outputs": [
    {
     "name": "stdout",
     "output_type": "stream",
     "text": [
      "Q5a: <\n",
      "Q5b: We have only one feature and one prediction, which is years and the number of frozen days for that year. This is the slope of the line that plots the number of days vs years (years are strictly increasing order)So, the sign < indicates that the number of frozen days are (usually) decreasing every passing year, sign > indicates that the number of frozen days is(usually) increasing per year. Lastly, sign = indicates that the number of frozen days (usually) are similar as the previous years (not many changes)\n"
     ]
    }
   ],
   "source": [
    "if beta_hat[1] > 0:\n",
    "    print(\"Q5a: >\")\n",
    "elif beta_hat[1] < 0:\n",
    "    print(\"Q5a: <\")\n",
    "else:\n",
    "    print(\"Q5a: =\")\n",
    "# Question 5b: Interpretation\n",
    "print(\"Q5b: We have only one feature and one prediction, which is years and the\"\n",
    "      \" number of frozen days for that year. This is the slope of the line that\"\n",
    "      \" plots the number of days vs years (years are strictly increasing order)\"\n",
    "      \"So, the sign < indicates that the number of frozen days are (usually) decreasing \"\n",
    "      \"every passing year, sign > indicates that the number of frozen days is\"\n",
    "      \"(usually) increasing per year. Lastly, sign = indicates that the number of frozen\"\n",
    "      \" days (usually) are similar as the previous years (not many changes)\")"
   ]
  },
  {
   "cell_type": "code",
   "execution_count": 42,
   "metadata": {},
   "outputs": [
    {
     "name": "stdout",
     "output_type": "stream",
     "text": [
      "Q6a: 1812.873015889519\n",
      "Q6b: Based on the trends observed in the data, the prediction seems to be a compelling. The reasoning is as follows: The overall number of days the lake was frozen, is decreasing overall with increase in years. This is indicated by the negative weight for the year value in the model as well as the averages calculated over several intervals in the data, where the count was 121.73 from 1855 to 1875, and dropped to an average of 83.56 from 1999 to 2022; also indicate the same trend. Based on these trends, it seems likely that the prediction is indeed a compelling one. That being said, it cannot be guaranteed that the predicted value will be the exact value where we will see 0 frozen days. The confidence of the model is not known and can be derived with testing the same on a combination of training and testing data (split from the given data). The accuracy obtained throught this testing will give us much more confidence in the predicted value. The regression produces a best-fitting line for the provided data, however, the trends can always change.\n"
     ]
    }
   ],
   "source": [
    "beta_0 = beta_hat[0]\n",
    "beta_1 = beta_hat[1]\n",
    "x_star = (-1 * beta_0) / beta_1\n",
    "print(\"Q6a: {}\".format(x_star))\n",
    "\n",
    "print(\"Q6b: Based on the trends observed in the data, the prediction seems to be a\"\n",
    "      \" compelling. The reasoning is as follows: The overall number of days the lake \"\n",
    "      \"was frozen, is decreasing overall with increase in years. This is indicated by the \"\n",
    "      \"negative weight for the year value in the model as well as \"\n",
    "      \"the averages calculated over several intervals in the data, where the count was\"\n",
    "      \" 121.73 from 1855 to 1875, and dropped to an average of 83.56 from 1999 to 2022;\"\n",
    "      \" also indicate the same trend. Based on these trends, it seems likely that\"\n",
    "      \" the prediction is indeed a compelling one. That being said, it cannot be guaranteed\"\n",
    "      \" that the predicted value will be the exact value where we will see 0 frozen days.\"\n",
    "      \" The confidence of the model is not known and can be derived with testing the same on a combination of \"\n",
    "      \"training and testing data (split from the given data). The accuracy obtained throught this testing \"\n",
    "      \"will give us much more confidence in the predicted value. \"\n",
    "      \"The regression produces a best-fitting line for the provided data, however, the trends can always change.\")\n"
   ]
  },
  {
   "cell_type": "code",
   "execution_count": 29,
   "metadata": {},
   "outputs": [],
   "source": [
    "# plt.plot(dataset[124:, 0], dataset[124:, 1])\n",
    "# plt.xlabel(\"Year\")\n",
    "# plt.ylabel(\"Number of frozen Days\")\n",
    "# # plt.savefig(\"plot.jpg\")"
   ]
  },
  {
   "cell_type": "code",
   "execution_count": 30,
   "metadata": {},
   "outputs": [],
   "source": [
    "# print(np.average(dataset[149:, 1]))\n",
    "# print(np.average(dataset[124:149, 1]))\n",
    "# print(np.average(dataset[99:124, 1]))\n",
    "# print(np.average(dataset[74:99, 1]))\n",
    "# print(np.average(dataset[49:74, 1]))\n",
    "# print(np.average(dataset[25:49, 1]))\n",
    "# print(np.average(dataset[0:25, 1]))\n",
    "# # np.average(dataset[:124, 1])\n",
    "# # np.average(dataset[:, 1])"
   ]
  }
 ],
 "metadata": {
  "kernelspec": {
   "display_name": "base",
   "language": "python",
   "name": "python3"
  },
  "language_info": {
   "codemirror_mode": {
    "name": "ipython",
    "version": 3
   },
   "file_extension": ".py",
   "mimetype": "text/x-python",
   "name": "python",
   "nbconvert_exporter": "python",
   "pygments_lexer": "ipython3",
   "version": "3.11.5"
  }
 },
 "nbformat": 4,
 "nbformat_minor": 2
}
